{
 "cells": [
  {
   "cell_type": "markdown",
   "id": "3848c976",
   "metadata": {},
   "source": [
    "# Spark API\n",
    "\n",
    "[Lesson Diagram](https://codeupclassroom.github.io/florence-spark-exercises/)"
   ]
  },
  {
   "cell_type": "code",
   "execution_count": 1,
   "id": "8e0b4f1e",
   "metadata": {},
   "outputs": [],
   "source": [
    "import pydataset\n",
    "import pyspark"
   ]
  },
  {
   "cell_type": "code",
   "execution_count": 3,
   "id": "72315b23",
   "metadata": {},
   "outputs": [],
   "source": [
    "spark = pyspark.sql.SparkSession.builder.getOrCreate()\n",
    "df = spark.createDataFrame(pydataset.data('tips'))"
   ]
  },
  {
   "cell_type": "markdown",
   "id": "bda5b435",
   "metadata": {},
   "source": [
    "## Dataframe Basics\n",
    "\n",
    "- Creating Dataframes\n",
    "- Viewing dataframe contents\n",
    "- Selecting Columns\n",
    "- Creating Columns"
   ]
  },
  {
   "cell_type": "markdown",
   "id": "88ed63f3",
   "metadata": {},
   "source": [
    "## Transforming Columns\n",
    "\n",
    "- Built-in Functions\n",
    "- Changing Datatypes\n",
    "- String Manipulation\n",
    "- When, Otherwise"
   ]
  },
  {
   "cell_type": "markdown",
   "id": "d4c3f58a",
   "metadata": {},
   "source": [
    "## Sorting and Filtering"
   ]
  },
  {
   "cell_type": "markdown",
   "id": "81b1eff3",
   "metadata": {},
   "source": [
    "## Aggregating\n",
    "\n",
    "- group by\n",
    "- crosstab + pivot"
   ]
  },
  {
   "cell_type": "markdown",
   "id": "bd04a0d3",
   "metadata": {},
   "source": [
    "## Additional Features\n",
    "\n",
    "- `.explain`\n",
    "- spark sql\n",
    "- missing values"
   ]
  }
 ],
 "metadata": {
  "kernelspec": {
   "display_name": "Python 3 (ipykernel)",
   "language": "python",
   "name": "python3"
  },
  "language_info": {
   "codemirror_mode": {
    "name": "ipython",
    "version": 3
   },
   "file_extension": ".py",
   "mimetype": "text/x-python",
   "name": "python",
   "nbconvert_exporter": "python",
   "pygments_lexer": "ipython3",
   "version": "3.9.7"
  }
 },
 "nbformat": 4,
 "nbformat_minor": 5
}
