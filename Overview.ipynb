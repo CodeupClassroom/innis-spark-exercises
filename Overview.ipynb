{
 "cells": [
  {
   "cell_type": "markdown",
   "id": "19cd506b",
   "metadata": {},
   "source": [
    "# Spark\n",
    "\n",
    "- What is spark?\n",
    "- When would you use spark?\n",
    "    - Big Data: 4 Vs\n",
    "- Spark Architecture\n",
    "    - Scala on JVM\n",
    "    - Client Libraries\n",
    "    - Drivers, Cluster Managers, Executors\n",
    "    - Applications, Jobs, and Tasks\n",
    "- Parallel Work and Spark Dataframes\n",
    "    - transformations and actions\n",
    "- Spark Lessons / Topics Covered"
   ]
  }
 ],
 "metadata": {
  "kernelspec": {
   "display_name": "Python 3 (ipykernel)",
   "language": "python",
   "name": "python3"
  },
  "language_info": {
   "codemirror_mode": {
    "name": "ipython",
    "version": 3
   },
   "file_extension": ".py",
   "mimetype": "text/x-python",
   "name": "python",
   "nbconvert_exporter": "python",
   "pygments_lexer": "ipython3",
   "version": "3.9.7"
  }
 },
 "nbformat": 4,
 "nbformat_minor": 5
}
