{
 "cells": [
  {
   "cell_type": "markdown",
   "metadata": {},
   "source": [
    "# Wrangle Exercises"
   ]
  },
  {
   "cell_type": "code",
   "execution_count": 1,
   "metadata": {},
   "outputs": [
    {
     "name": "stderr",
     "output_type": "stream",
     "text": [
      "WARNING: An illegal reflective access operation has occurred\n",
      "WARNING: Illegal reflective access by org.apache.spark.unsafe.Platform (file:/opt/homebrew/anaconda3/lib/python3.9/site-packages/pyspark/jars/spark-unsafe_2.12-3.2.1.jar) to constructor java.nio.DirectByteBuffer(long,int)\n",
      "WARNING: Please consider reporting this to the maintainers of org.apache.spark.unsafe.Platform\n",
      "WARNING: Use --illegal-access=warn to enable warnings of further illegal reflective access operations\n",
      "WARNING: All illegal access operations will be denied in a future release\n",
      "Using Spark's default log4j profile: org/apache/spark/log4j-defaults.properties\n",
      "Setting default log level to \"WARN\".\n",
      "To adjust logging level use sc.setLogLevel(newLevel). For SparkR, use setLogLevel(newLevel).\n",
      "22/05/20 15:33:22 WARN NativeCodeLoader: Unable to load native-hadoop library for your platform... using builtin-java classes where applicable\n",
      "22/05/20 15:33:24 WARN Utils: Service 'SparkUI' could not bind on port 4040. Attempting port 4041.\n"
     ]
    }
   ],
   "source": [
    "import pyspark\n",
    "from pyspark.sql.functions import *\n",
    "\n",
    "spark = pyspark.sql.SparkSession.builder.getOrCreate()"
   ]
  },
  {
   "cell_type": "markdown",
   "metadata": {},
   "source": [
    "## Data Prep"
   ]
  },
  {
   "cell_type": "code",
   "execution_count": 3,
   "metadata": {},
   "outputs": [
    {
     "name": "stderr",
     "output_type": "stream",
     "text": [
      "                                                                                \r"
     ]
    }
   ],
   "source": [
    "df = spark.read.csv('case.csv', header=True, inferSchema=True)"
   ]
  },
  {
   "cell_type": "code",
   "execution_count": 4,
   "metadata": {},
   "outputs": [],
   "source": [
    "# Rename column\n",
    "df = df.withColumnRenamed('SLA_due_date', 'case_due_date')\n",
    "\n",
    "# Convert to better data types\n",
    "df = (\n",
    "    df.withColumn('case_late', col('case_late') == 'YES')\n",
    "    .withColumn('case_closed', col('case_closed') == 'YES')\n",
    ")\n",
    "df = df.withColumn('council_district', format_string('%04d', col('council_district')))\n",
    "df = (\n",
    "    df.withColumn('case_opened_date', to_timestamp(col('case_opened_date'), 'M/d/yy H:mm'))\n",
    "    .withColumn('case_closed_date', to_timestamp(col('case_closed_date'), 'M/d/yy H:mm'))\n",
    "    .withColumn('case_due_date', to_timestamp(col('case_due_date'), 'M/d/yy H:mm'))\n",
    ")\n",
    "\n",
    "# Cleanup text data\n",
    "df = df.withColumn('request_address', lower(trim(col('request_address'))))\n",
    "# Extract zipcode\n",
    "df = df.withColumn('zipcode', regexp_extract(col('request_address'), r'\\d+$', 0))\n",
    "\n",
    "# Create a `case_lifetime` feature\n",
    "df = (\n",
    "    df.withColumn('case_age', datediff(current_timestamp(), 'case_opened_date'))\n",
    "    .withColumn('days_to_closed', datediff('case_closed_date', 'case_opened_date'))\n",
    "    .withColumn('case_lifetime', when(col('case_closed'), col('days_to_closed')).otherwise(col('case_age')))\n",
    "    .drop('case_age', 'days_to_closed')\n",
    ")\n",
    "\n",
    "# Join departments and sources\n",
    "depts = spark.read.csv('dept.csv', header=True, inferSchema=True)\n",
    "sources = spark.read.csv('source.csv', header=True, inferSchema=True)\n",
    "\n",
    "df = df.join(depts, 'dept_division', 'left').join(sources, 'source_id', 'left')\n",
    "\n",
    "# # Train Test Split\n",
    "# train, test = df.randomSplit([.8, .2], seed=123)\n",
    "# train, validate, test = df.randomSplit([.7, .15, .15], seed=123)"
   ]
  },
  {
   "cell_type": "markdown",
   "metadata": {},
   "source": [
    "In case we want to query our dataframe with Spark SQL:"
   ]
  },
  {
   "cell_type": "code",
   "execution_count": 5,
   "metadata": {},
   "outputs": [],
   "source": [
    "df.createOrReplaceTempView('df')"
   ]
  },
  {
   "cell_type": "markdown",
   "metadata": {},
   "source": [
    "## Initial Exploration Questions"
   ]
  },
  {
   "cell_type": "code",
   "execution_count": 6,
   "metadata": {},
   "outputs": [
    {
     "name": "stderr",
     "output_type": "stream",
     "text": [
      "\r",
      "[Stage 8:>                                                        (0 + 10) / 10]\r"
     ]
    },
    {
     "name": "stdout",
     "output_type": "stream",
     "text": [
      "+-------------+\n",
      "|days_past_due|\n",
      "+-------------+\n",
      "|         1949|\n",
      "|         1949|\n",
      "|         1949|\n",
      "|         1948|\n",
      "|         1946|\n",
      "|         1942|\n",
      "|         1942|\n",
      "|         1941|\n",
      "|         1940|\n",
      "|         1940|\n",
      "|         1936|\n",
      "|         1935|\n",
      "|         1935|\n",
      "|         1935|\n",
      "|         1932|\n",
      "+-------------+\n",
      "\n"
     ]
    },
    {
     "name": "stderr",
     "output_type": "stream",
     "text": [
      "\r",
      "[Stage 8:====================================================>     (9 + 1) / 10]\r",
      "\r",
      "                                                                                \r"
     ]
    }
   ],
   "source": [
    "# How old is the latest (in terms of days past SLA) currently open issue?\n",
    "# How long has the oldest (in terms of days since opened) currently opened issue been open?\n",
    "spark.sql('''\n",
    "SELECT DATEDIFF(current_timestamp, case_due_date) AS days_past_due\n",
    "FROM df\n",
    "WHERE NOT case_closed\n",
    "ORDER BY days_past_due DESC\n",
    "LIMIT 15\n",
    "''').show()"
   ]
  },
  {
   "cell_type": "code",
   "execution_count": 7,
   "metadata": {},
   "outputs": [
    {
     "name": "stderr",
     "output_type": "stream",
     "text": [
      "                                                                                \r"
     ]
    },
    {
     "data": {
      "text/plain": [
       "27361"
      ]
     },
     "execution_count": 7,
     "metadata": {},
     "output_type": "execute_result"
    }
   ],
   "source": [
    "# How many Stray Animal cases are there?\n",
    "df.filter(df.service_request_type == 'Stray Animal').count()"
   ]
  },
  {
   "cell_type": "markdown",
   "metadata": {},
   "source": [
    "26760?"
   ]
  },
  {
   "cell_type": "code",
   "execution_count": 9,
   "metadata": {},
   "outputs": [
    {
     "name": "stdout",
     "output_type": "stream",
     "text": [
      "+--------------------+-----+\n",
      "|service_request_type|count|\n",
      "+--------------------+-----+\n",
      "|        Stray Animal|27361|\n",
      "+--------------------+-----+\n",
      "\n"
     ]
    }
   ],
   "source": [
    "(\n",
    "    df.groupBy('service_request_type')\n",
    "    .count()\n",
    "    .filter(expr('service_request_type == \"Stray Animal\"'))\n",
    "    .show()\n",
    ")"
   ]
  },
  {
   "cell_type": "code",
   "execution_count": 10,
   "metadata": {},
   "outputs": [
    {
     "data": {
      "text/plain": [
       "116295"
      ]
     },
     "execution_count": 10,
     "metadata": {},
     "output_type": "execute_result"
    }
   ],
   "source": [
    "# How many service requests that are assigned to the Field Operations department (dept_division)\n",
    "# are not classified as \"Officer Standby\" request type (service_request_type)?\n",
    "(\n",
    "    df.filter(df.dept_division == 'Field Operations')\n",
    "    .filter(df.service_request_type != 'Officer Standby')\n",
    "    .count()\n",
    ")"
   ]
  },
  {
   "cell_type": "code",
   "execution_count": 15,
   "metadata": {},
   "outputs": [
    {
     "name": "stderr",
     "output_type": "stream",
     "text": [
      "\r",
      "[Stage 42:===========>                                             (2 + 8) / 10]\r"
     ]
    },
    {
     "name": "stdout",
     "output_type": "stream",
     "text": [
      "+-------------------------------+-----+\n",
      "|service_request_type           |count|\n",
      "+-------------------------------+-----+\n",
      "|Animal Permits Request         |3083 |\n",
      "|Injured Animal(Critical)       |9779 |\n",
      "|Officer Standby                |3067 |\n",
      "|Animal Bite(Non-Critical)      |4783 |\n",
      "|Stray Animal                   |27361|\n",
      "|Trapped/Confined Animal        |11605|\n",
      "|City Council Animal Request    |365  |\n",
      "|Aggressive Animal(Non-Critical)|25492|\n",
      "|Animal Bite(Critical)          |717  |\n",
      "|Public Nuisance(Own Animal)    |10969|\n",
      "|Aggressive Animal(Critical)    |5280 |\n",
      "|Animal Cruelty(Critical)       |3009 |\n",
      "|Animal Neglect                 |13851|\n",
      "|Spay/Neuter Request Response   |1    |\n",
      "+-------------------------------+-----+\n",
      "\n"
     ]
    },
    {
     "name": "stderr",
     "output_type": "stream",
     "text": [
      "\r",
      "                                                                                \r"
     ]
    }
   ],
   "source": [
    "# Another way to do it\n",
    "(\n",
    "    df.filter(expr(\"dept_division == 'Field Operations'\"))\n",
    "    .groupBy('service_request_type')\n",
    "    .count()\n",
    "    .show(truncate=False)\n",
    ")"
   ]
  },
  {
   "cell_type": "code",
   "execution_count": 13,
   "metadata": {},
   "outputs": [
    {
     "name": "stderr",
     "output_type": "stream",
     "text": [
      "\r",
      "[Stage 32:>                                                       (0 + 10) / 10]\r"
     ]
    },
    {
     "name": "stdout",
     "output_type": "stream",
     "text": [
      "+----------------------------------------------+------+\n",
      "|(NOT (service_request_type = Officer Standby))| count|\n",
      "+----------------------------------------------+------+\n",
      "|                                          true|116295|\n",
      "|                                         false|  3067|\n",
      "+----------------------------------------------+------+\n",
      "\n"
     ]
    },
    {
     "name": "stderr",
     "output_type": "stream",
     "text": [
      "\r",
      "                                                                                \r"
     ]
    }
   ],
   "source": [
    "# Another way to do it\n",
    "(\n",
    "    df.filter(expr(\"dept_division == 'Field Operations'\"))\n",
    "    .groupBy(expr('service_request_type != \"Officer Standby\"'))\n",
    "    .show()\n",
    ")"
   ]
  },
  {
   "cell_type": "markdown",
   "metadata": {},
   "source": [
    "Fantasque Sans Mono\n",
    "\n",
    "```\n",
    "brew search fantasque\n",
    "```"
   ]
  },
  {
   "cell_type": "code",
   "execution_count": null,
   "metadata": {},
   "outputs": [],
   "source": [
    "# Convert the council_district column to a string column.\n",
    "\n",
    "# Already done in the data prep"
   ]
  },
  {
   "cell_type": "code",
   "execution_count": 16,
   "metadata": {},
   "outputs": [
    {
     "name": "stdout",
     "output_type": "stream",
     "text": [
      "+-------------------+----------------------+\n",
      "|   case_closed_date|year(case_closed_date)|\n",
      "+-------------------+----------------------+\n",
      "|2018-01-01 12:29:00|                  2018|\n",
      "|2018-01-03 08:11:00|                  2018|\n",
      "|2018-01-02 07:57:00|                  2018|\n",
      "|2018-01-02 08:13:00|                  2018|\n",
      "|2018-01-01 13:29:00|                  2018|\n",
      "+-------------------+----------------------+\n",
      "only showing top 5 rows\n",
      "\n"
     ]
    }
   ],
   "source": [
    "# Extract the year from the case_closed_date column.\n",
    "df.select('case_closed_date', year('case_closed_date')).show(5)"
   ]
  },
  {
   "cell_type": "code",
   "execution_count": 17,
   "metadata": {},
   "outputs": [
    {
     "name": "stdout",
     "output_type": "stream",
     "text": [
      "+-------------------+-------------------+\n",
      "|      num_days_late|     num_hours_late|\n",
      "+-------------------+-------------------+\n",
      "| -998.5087616000001|     -23964.2102784|\n",
      "|-2.0126041669999997|-48.302500007999996|\n",
      "|       -3.022337963|      -72.536111112|\n",
      "|       -15.01148148|      -360.27555552|\n",
      "|0.37216435200000003|  8.931944448000001|\n",
      "|       -29.74398148| -713.8555555199999|\n",
      "|       -14.70673611|      -352.96166664|\n",
      "|       -14.70662037|      -352.95888888|\n",
      "|       -14.70662037|      -352.95888888|\n",
      "|       -14.70649306|      -352.95583344|\n",
      "|       -14.70649306|      -352.95583344|\n",
      "|       -14.70636574|      -352.95277776|\n",
      "|          -14.70625|-352.95000000000005|\n",
      "|       -14.70636574|      -352.95277776|\n",
      "|       -14.70623843|-352.94972232000003|\n",
      "|-14.705891199999998|-352.94138879999997|\n",
      "|       -14.70600694|      -352.94416656|\n",
      "|       -14.70576389|      -352.93833336|\n",
      "|       -14.70576389|      -352.93833336|\n",
      "|       -14.70564815|       -352.9355556|\n",
      "+-------------------+-------------------+\n",
      "only showing top 20 rows\n",
      "\n"
     ]
    }
   ],
   "source": [
    "# Convert num_days_late from days to hours in new columns num_hours_late.\n",
    "(\n",
    "    df.withColumn('num_hours_late', df.num_days_late * 24)\n",
    "    .select('num_days_late', 'num_hours_late')\n",
    "    .show()\n",
    ")"
   ]
  },
  {
   "cell_type": "code",
   "execution_count": null,
   "metadata": {},
   "outputs": [],
   "source": [
    "# Join the case data with the source and department data.\n",
    "\n",
    "# already joined in the data prep"
   ]
  },
  {
   "cell_type": "code",
   "execution_count": 18,
   "metadata": {},
   "outputs": [
    {
     "name": "stderr",
     "output_type": "stream",
     "text": [
      "\r",
      "[Stage 53:>                                                       (0 + 10) / 10]\r"
     ]
    },
    {
     "name": "stdout",
     "output_type": "stream",
     "text": [
      "+------------+\n",
      "|sum(is_null)|\n",
      "+------------+\n",
      "|           0|\n",
      "+------------+\n",
      "\n"
     ]
    },
    {
     "name": "stderr",
     "output_type": "stream",
     "text": [
      "\r",
      "                                                                                \r"
     ]
    }
   ],
   "source": [
    "# Are there any cases that do not have a request source?\n",
    "# are there any null values for source_id?\n",
    "(\n",
    "    df.select(df.source_id.isNull().cast('int').alias('is_null'))\n",
    "    .agg(sum('is_null'))\n",
    "    .show()\n",
    ")"
   ]
  },
  {
   "cell_type": "code",
   "execution_count": 19,
   "metadata": {},
   "outputs": [
    {
     "name": "stdout",
     "output_type": "stream",
     "text": [
      "(0 rows)\n",
      "\n"
     ]
    }
   ],
   "source": [
    "df.filter(col('source_id').isNull()).show(vertical=True)"
   ]
  },
  {
   "cell_type": "code",
   "execution_count": 20,
   "metadata": {
    "scrolled": true
   },
   "outputs": [
    {
     "name": "stderr",
     "output_type": "stream",
     "text": [
      "[Stage 63:=======================================>                 (7 + 3) / 10]\r"
     ]
    },
    {
     "name": "stdout",
     "output_type": "stream",
     "text": [
      "+--------------------------------+-----+\n",
      "|service_request_type            |count|\n",
      "+--------------------------------+-----+\n",
      "|No Pickup                       |89210|\n",
      "|Overgrown Yard/Trash            |66403|\n",
      "|Bandit Signs                    |32968|\n",
      "|Damaged Cart                    |31163|\n",
      "|Front Or Side Yard Parking      |28920|\n",
      "|Stray Animal                    |27361|\n",
      "|Aggressive Animal(Non-Critical) |25492|\n",
      "|Cart Exchange Request           |22608|\n",
      "|Junk Vehicle On Private Property|21649|\n",
      "|Pot Hole Repair                 |20827|\n",
      "+--------------------------------+-----+\n",
      "only showing top 10 rows\n",
      "\n"
     ]
    },
    {
     "name": "stderr",
     "output_type": "stream",
     "text": [
      "\r",
      "                                                                                \r"
     ]
    }
   ],
   "source": [
    "# What are the top 10 service request types in terms of number of requests?\n",
    "(\n",
    "    df.groupby('service_request_type')\n",
    "    .count()\n",
    "    .sort(col('count').desc())\n",
    "    .show(10, truncate=False)\n",
    ")"
   ]
  },
  {
   "cell_type": "code",
   "execution_count": 21,
   "metadata": {},
   "outputs": [
    {
     "name": "stderr",
     "output_type": "stream",
     "text": [
      "\r",
      "[Stage 68:>                                                       (0 + 10) / 10]\r"
     ]
    },
    {
     "name": "stdout",
     "output_type": "stream",
     "text": [
      "+--------------------------------------+------------------+-------+\n",
      "|service_request_type                  |n_days_late       |n_cases|\n",
      "+--------------------------------------+------------------+-------+\n",
      "|Zoning: Recycle Yard                  |210.89201994318182|132    |\n",
      "|Zoning: Junk Yards                    |200.20517608494276|262    |\n",
      "|Structure/Housing Maintenance         |190.20707698509807|51     |\n",
      "|Donation Container Enforcement        |171.09115313942615|122    |\n",
      "|Storage of Used Mattress              |163.96812829714287|7      |\n",
      "|Labeling for Used Mattress            |162.43032902285717|7      |\n",
      "|Record Keeping of Used Mattresses     |153.99724039428568|7      |\n",
      "|Signage Requied for Sale of Used Mattr|151.63868055333333|12     |\n",
      "|Traffic Signal Graffiti               |137.64583330000002|4      |\n",
      "|License Requied Used Mattress Sales   |128.79828704142858|7      |\n",
      "+--------------------------------------+------------------+-------+\n",
      "only showing top 10 rows\n",
      "\n"
     ]
    },
    {
     "name": "stderr",
     "output_type": "stream",
     "text": [
      "\r",
      "                                                                                \r"
     ]
    }
   ],
   "source": [
    "# What are the top 10 service request types in terms of average days late?\n",
    "# - just the late cases\n",
    "# - for the late cases:\n",
    "#   - what is the average number of days late by request type?\n",
    "(\n",
    "    df.where('case_late') # just the rows where case_late == true\n",
    "    .groupBy('service_request_type')\n",
    "    .agg(mean('num_days_late').alias('n_days_late'), count('*').alias('n_cases'))\n",
    "    .sort(desc('n_days_late'))\n",
    "    .show(10, truncate=False)\n",
    ")"
   ]
  },
  {
   "cell_type": "code",
   "execution_count": 22,
   "metadata": {},
   "outputs": [
    {
     "name": "stderr",
     "output_type": "stream",
     "text": [
      "\r",
      "[Stage 73:>                                                       (0 + 10) / 10]\r"
     ]
    },
    {
     "name": "stdout",
     "output_type": "stream",
     "text": [
      "+-------------------------+---------+------------+\n",
      "|dept_name                |days_late|n_cases_late|\n",
      "+-------------------------+---------+------------+\n",
      "|Metro Health             |6.5      |854         |\n",
      "|Solid Waste Management   |7.1      |33729       |\n",
      "|Trans & Cap Improvements |10.7     |5529        |\n",
      "|Parks and Recreation     |22.4     |3810        |\n",
      "|Animal Care Services     |23.4     |23751       |\n",
      "|Code Enforcement Services|48.1     |25467       |\n",
      "|Development Services     |67.2     |840         |\n",
      "|Customer Service         |88.2     |2035        |\n",
      "|null                     |210.9    |132         |\n",
      "+-------------------------+---------+------------+\n",
      "\n"
     ]
    },
    {
     "name": "stderr",
     "output_type": "stream",
     "text": [
      "\r",
      "                                                                                \r"
     ]
    }
   ],
   "source": [
    "# Does number of days late depend on department?\n",
    "(\n",
    "    df.filter('case_late')\n",
    "    .groupby('dept_name')\n",
    "    .agg(mean('num_days_late').alias('days_late'), count('num_days_late').alias('n_cases_late'))\n",
    "    .sort('days_late')\n",
    "    .withColumn('days_late', round(col('days_late'), 1))\n",
    "    .show(truncate=False)\n",
    ")"
   ]
  },
  {
   "cell_type": "code",
   "execution_count": null,
   "metadata": {},
   "outputs": [],
   "source": [
    "df.groupby('dept_name').count().show(truncate=False)"
   ]
  },
  {
   "cell_type": "code",
   "execution_count": 24,
   "metadata": {},
   "outputs": [
    {
     "name": "stderr",
     "output_type": "stream",
     "text": [
      "\r",
      "[Stage 83:>                                                       (0 + 10) / 10]\r"
     ]
    },
    {
     "name": "stdout",
     "output_type": "stream",
     "text": [
      "+----------------------+--------------------------------------+---------+-------+\n",
      "|standardized_dept_name|service_request_type                  |days_late|n_cases|\n",
      "+----------------------+--------------------------------------+---------+-------+\n",
      "|Animal Care Services  |Injured Animal(Critical)              |0.1      |578    |\n",
      "|Animal Care Services  |Officer Standby                       |0.1      |97     |\n",
      "|Animal Care Services  |Animal Bite(Critical)                 |0.2      |217    |\n",
      "|Animal Care Services  |Animal Cruelty(Critical)              |0.2      |389    |\n",
      "|Animal Care Services  |Trapped/Confined Animal               |0.8      |5806   |\n",
      "|Animal Care Services  |Animal Bite(Non-Critical)             |4.7      |133    |\n",
      "|Animal Care Services  |City Council Animal Request           |9.2      |31     |\n",
      "|Animal Care Services  |Aggressive Animal(Critical)           |21.5     |4084   |\n",
      "|Animal Care Services  |Animal Neglect                        |30.0     |4630   |\n",
      "|Animal Care Services  |Aggressive Animal(Non-Critical)       |30.3     |5256   |\n",
      "|Animal Care Services  |Public Nuisance(Own Animal)           |71.2     |976    |\n",
      "|Animal Care Services  |Animal Permits Request                |72.0     |1218   |\n",
      "|Customer Service      |Compliment                            |67.6     |9      |\n",
      "|Customer Service      |Complaint                             |81.5     |939    |\n",
      "|DSD/Code Enforcement  |Graffiti: Traffic Signal Pole         |0.2      |3      |\n",
      "|DSD/Code Enforcement  |Wasting Water (General)               |2.8      |1      |\n",
      "|DSD/Code Enforcement  |Graffiti: Guardrail                   |3.2      |7      |\n",
      "|DSD/Code Enforcement  |\"Vacant Lot-State (48\"\")\"             |4.0      |1      |\n",
      "|DSD/Code Enforcement  |Absentee Property Assessment-Posting  |5.3      |10     |\n",
      "|DSD/Code Enforcement  |Fly Breeding and Animal Waste Disposal|7.0      |3      |\n",
      "|DSD/Code Enforcement  |Whole Scrap Tires Not Marked          |9.2      |2      |\n",
      "|DSD/Code Enforcement  |Dumpsters: City R.O.W.                |10.2     |46     |\n",
      "|DSD/Code Enforcement  |Vehicle Blocking                      |11.7     |624    |\n",
      "|DSD/Code Enforcement  |Alley Address Required                |11.8     |1      |\n",
      "|DSD/Code Enforcement  |Front Or Side Yard Parking            |14.1     |3779   |\n",
      "|DSD/Code Enforcement  |Graffiti: Curb                        |15.6     |13     |\n",
      "|DSD/Code Enforcement  |Graffiti Public Property              |15.8     |183    |\n",
      "|DSD/Code Enforcement  |Basketball Goals on R.O.W.            |15.8     |255    |\n",
      "|DSD/Code Enforcement  |Right Of Way/Sidewalk Obstruction     |15.8     |2647   |\n",
      "|DSD/Code Enforcement  |Solid Waste Insp: Dead Animals        |16.5     |26     |\n",
      "|DSD/Code Enforcement  |Emergency: Main Structure Only        |17.2     |22     |\n",
      "|DSD/Code Enforcement  |Graffiti: Retaining Wall              |18.9     |176    |\n",
      "|DSD/Code Enforcement  |Garage Sales No Permit                |19.2     |205    |\n",
      "|DSD/Code Enforcement  |Multi Tenant Interior                 |19.8     |2      |\n",
      "|DSD/Code Enforcement  |Graffiti: Drainage Channel            |20.2     |106    |\n",
      "|DSD/Code Enforcement  |Graffiti: Fence                       |20.5     |134    |\n",
      "|DSD/Code Enforcement  |Emergency: Accessory Structure Only   |21.6     |5      |\n",
      "|DSD/Code Enforcement  |Swim. Pool Inspect: Residential       |22.6     |4      |\n",
      "|DSD/Code Enforcement  |\"Vacant Lot-Private (48\"\")\"           |23.2     |56     |\n",
      "|DSD/Code Enforcement  |Graffiti: Traffic Control Box         |23.8     |96     |\n",
      "+----------------------+--------------------------------------+---------+-------+\n",
      "only showing top 40 rows\n",
      "\n"
     ]
    },
    {
     "name": "stderr",
     "output_type": "stream",
     "text": [
      "\r",
      "                                                                                \r"
     ]
    }
   ],
   "source": [
    "# How do number of days late depend on department and request type?\n",
    "(\n",
    "    df.filter(\"case_closed\")\n",
    "    .filter(\"case_late\")\n",
    "    .groupby(\"standardized_dept_name\", \"service_request_type\")\n",
    "    .agg(avg(\"num_days_late\").alias(\"days_late\"), count(\"*\").alias(\"n_cases\"))\n",
    "    .withColumn(\"days_late\", round(col(\"days_late\"), 1))\n",
    "    .sort(col('standardized_dept_name'), col('days_late'))\n",
    "    .show(40, truncate=False)\n",
    ")"
   ]
  },
  {
   "cell_type": "code",
   "execution_count": 26,
   "metadata": {},
   "outputs": [
    {
     "name": "stdout",
     "output_type": "stream",
     "text": [
      "[wrangle.py] reading case.csv\n"
     ]
    },
    {
     "name": "stderr",
     "output_type": "stream",
     "text": [
      "\r",
      "[Stage 94:>                                                       (0 + 10) / 10]\r",
      "\r",
      "                                                                                \r"
     ]
    },
    {
     "name": "stdout",
     "output_type": "stream",
     "text": [
      "[wrangle.py] handling data types\n",
      "[wrangle.py] parsing dates\n",
      "[wrangle.py] adding features\n"
     ]
    },
    {
     "name": "stderr",
     "output_type": "stream",
     "text": [
      "                                                                                \r"
     ]
    },
    {
     "name": "stdout",
     "output_type": "stream",
     "text": [
      "[wrangle.py] joining departments\n"
     ]
    }
   ],
   "source": [
    "spark = pyspark.sql.SparkSession.builder.getOrCreate()\n",
    "\n",
    "import wrangle\n",
    "\n",
    "df = wrangle.wrangle_311(spark)"
   ]
  },
  {
   "cell_type": "code",
   "execution_count": null,
   "metadata": {},
   "outputs": [],
   "source": [
    "# ... df"
   ]
  }
 ],
 "metadata": {
  "kernelspec": {
   "display_name": "Python 3 (ipykernel)",
   "language": "python",
   "name": "python3"
  },
  "language_info": {
   "codemirror_mode": {
    "name": "ipython",
    "version": 3
   },
   "file_extension": ".py",
   "mimetype": "text/x-python",
   "name": "python",
   "nbconvert_exporter": "python",
   "pygments_lexer": "ipython3",
   "version": "3.9.7"
  }
 },
 "nbformat": 4,
 "nbformat_minor": 4
}
